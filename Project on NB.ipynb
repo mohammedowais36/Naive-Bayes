{
  "cells": [
    {
      "cell_type": "markdown",
      "metadata": {
        "id": "Dnubs-Nnb3cw"
      },
      "source": [
        "# Assignment 6: Apply NB"
      ]
    },
    {
      "cell_type": "markdown",
      "metadata": {
        "id": "RW0zYHb5m_wI"
      },
      "source": [
        "<ol>\n",
        "    <li>Minimum data points need to be considered for people having 4GB RAM is <strong>50k</strong> and for 8GB RAM is <strong>100k</strong></li>\n",
        "    <li>When you are using ramdomsearchcv or gridsearchcv you need not split the data into X_train,X_cv,X_test. As the above methods use kfold. The model will learn better if train data is more so splitting to X_train,X_test will suffice.</li>\n",
        "    <li>If you are writing for loops to tune your model then you need split the data into X_train,X_cv,X_test.</li>\n",
        "    <li>While splitting the data explore stratify parameter. </li>\n",
        "    <li><strong>Apply Multinomial NB on these feature sets</strong></li>\n",
        "        <ul>\n",
        "            <li>Features that need to be considered</li> \n",
        "                <dl>\n",
        "                  <dt>essay</dt>\n",
        "                    <dd>while encoding essay, try to experiment with the max_features and n_grams parameter of vectorizers and see if it increases AUC score.</dd>\n",
        "                  <dt>categorical features</dt>\n",
        "                  <dd> - teacher_prefix</dd>\n",
        "                  <dd> - project_grade_category</dd>\n",
        "                  <dd> - school_state</dd>\n",
        "                  <dd> - clean_categories</dd>\n",
        "                  <dd> - clean_subcategories</dd>\n",
        "                  <dt>numerical features</dt>\n",
        "                  <dd> - price</dd>\n",
        "                  <dd> - teacher_number_of_previously_posted_projects</dd>\n",
        "                  <dd>while encoding the numerical features check <a href='https://imgur.com/ldZA1zg'>this</a> and <a href='https://ac-classroom-production.s3.amazonaws.com/public/COMMENT/Annotation_2020-05-21_225912_0lyZzN8.jpg'>this</a></dd>\n",
        "                </dl>    \n",
        "            <li><font color='red'>Set 1</font>: categorical, numerical features + preprocessed_eassay (BOW)</li>\n",
        "            <li><font color='red'>Set 2</font>: categorical, numerical features + preprocessed_eassay (TFIDF)</li>\n",
        "        </ul>\n",
        "    <li><strong>The hyper paramter tuning(find best alpha:smoothing parameter)</strong>\n",
        "        <ul>\n",
        "    <li>Consider alpha values in range: 10^-5 to 10^2 like [0.00001,0.0005, 0.0001,0.005,0.001,0.05,0.01,0.1,0.5,1,5,10,50,100]</li>\n",
        "    <li>Explore class_prior = [0.5, 0.5] parameter which can be present in MultinomialNB function(go through <a href='https://scikit-learn.org/stable/modules/generated/sklearn.naive_bayes.MultinomialNB.html'>this</a> ) then check how results might change.\n",
        "    <li>Find the best hyper parameter which will give the maximum <a href='https://www.appliedaicourse.com/course/applied-ai-course-online/lessons/receiver-operating-characteristic-curve-roc-curve-and-auc-1/'>AUC</a> value</li>\n",
        "    <li>For hyper parameter tuning using k-fold cross validation(use GridsearchCV or RandomsearchCV)/simple cross validation data (write for loop to iterate over hyper parameter values)</li>\n",
        "    <li>You need to plot the performance of model both on train data and cross validation data for each hyper parameter, like shown in the figure\n",
        "    <img src='https://i.imgur.com/hUv6aEy.jpg' width=300px><dd>-while plotting take log(alpha) on your X-axis so that it will be more readable</dd></li>\n",
        "    <li>Once after you found the best hyper parameter, you need to train your model with it, and find the AUC on test data and plot the ROC curve on both train and test.\n",
        "    <img src='https://imgur.com/q2P65L5.jpg' width=300px></li>\n",
        "    <li>Along with plotting ROC curve, you need to print the <a href='https://www.appliedaicourse.com/course/applied-ai-course-online/lessons/confusion-matrix-tpr-fpr-fnr-tnr-1/'>confusion matrix</a> with predicted and original labels of test data points\n",
        "        <img src='https://i.imgur.com/IdN5Ctv.png' width=300px><dd>-plot the confusion matrix in heatmaps, while plotting the confusion matrix go through the <a href='https://stackoverflow.com/questions/61748441/how-to-fix-the-values-displayed-in-a-confusion-matrix-in-exponential-form-to-nor'>link </a>\n",
        "</dd></li>\n",
        "        </ul>\n",
        "<li>find the top 20 features from either from feature <font color='red'>Set 1</font> or feature <font color='red'>Set 2</font> using values of `feature_log_prob_ ` parameter of `MultinomialNB` \n",
        "(https://scikit-learn.org/stable/modules/generated/sklearn.naive_bayes.MultinomialNB.html) and print <strong>BOTH</strong> positive as well as negative corresponding feature names. <dd> - go through the <a href='https://imgur.com/mWvE7gj'>link </a> </dd>\n",
        "    </li>\n",
        "    <li>You need to summarize the results at the end of the notebook, summarize it in the table format\n",
        "        <img src='http://i.imgur.com/YVpIGGE.jpg' width=400px>\n",
        "    </li>\n",
        "</ol>"
      ]
    },
    {
      "cell_type": "code",
      "execution_count": null,
      "metadata": {
        "id": "chpSjDaXm9KG"
      },
      "outputs": [],
      "source": [
        ""
      ]
    },
    {
      "cell_type": "markdown",
      "metadata": {
        "id": "inzYCIaib3c3"
      },
      "source": [
        "<h1>2. Naive Bayes </h1>"
      ]
    },
    {
      "cell_type": "markdown",
      "metadata": {
        "id": "FYqCIxzFb3c5"
      },
      "source": [
        "## 1.1 Loading Data"
      ]
    },
    {
      "cell_type": "code",
      "execution_count": null,
      "metadata": {
        "id": "dA1jknyqb3c_"
      },
      "outputs": [],
      "source": [
        "#make sure you are loading atleast 50k datapoints\n",
        "#you can work with features of preprocessed_data.csv for the assignment.\n",
        "# If you want to add more features, you can add. (This is purely optional, not mandatory)\n",
        "\n",
        "import pandas\n",
        "data = pandas.read_csv('preprocessed_data.csv')"
      ]
    },
    {
      "cell_type": "code",
      "source": [
        "from sklearn.feature_extraction.text import CountVectorizer\n",
        "from sklearn.feature_extraction.text import TfidfVectorizer\n",
        "from sklearn.preprocessing import Normalizer\n",
        "\n",
        "%matplotlib inline\n",
        "import warnings\n",
        "warnings.filterwarnings(\"ignore\")\n",
        "\n",
        "import pandas as pd\n",
        "import numpy as np\n",
        "import nltk\n",
        "import matplotlib.pyplot as plt\n",
        "import seaborn as sns\n",
        "from sklearn.feature_extraction.text import TfidfVectorizer\n",
        "from sklearn.feature_extraction.text import CountVectorizer\n",
        "from sklearn.metrics import confusion_matrix\n",
        "from sklearn import metrics\n",
        "from sklearn.metrics import roc_curve, auc\n",
        "\n",
        "import re\n",
        "import pickle\n",
        "from tqdm import tqdm\n",
        "import os\n",
        "\n",
        "import plotly.graph_objs as go\n",
        "from collections import Counter"
      ],
      "metadata": {
        "id": "jZ1Dwuqx6VG3"
      },
      "execution_count": null,
      "outputs": []
    },
    {
      "cell_type": "code",
      "source": [
        "import pandas as pd\n",
        "data  = pd.read_csv('preprocessed_data.csv', nrows=50000)\n",
        "y = data['project_is_approved'].values\n",
        "X = data.drop(['project_is_approved'], axis=1)\n",
        "X.head(1)"
      ],
      "metadata": {
        "id": "AQQCRzd65tBe",
        "outputId": "0740a25a-d1b9-46ed-b983-c4d106d70700",
        "colab": {
          "base_uri": "https://localhost:8080/",
          "height": 177
        }
      },
      "execution_count": null,
      "outputs": [
        {
          "output_type": "execute_result",
          "data": {
            "text/html": [
              "\n",
              "  <div id=\"df-7dcc382f-067a-4f6c-affa-8381ff90d59c\">\n",
              "    <div class=\"colab-df-container\">\n",
              "      <div>\n",
              "<style scoped>\n",
              "    .dataframe tbody tr th:only-of-type {\n",
              "        vertical-align: middle;\n",
              "    }\n",
              "\n",
              "    .dataframe tbody tr th {\n",
              "        vertical-align: top;\n",
              "    }\n",
              "\n",
              "    .dataframe thead th {\n",
              "        text-align: right;\n",
              "    }\n",
              "</style>\n",
              "<table border=\"1\" class=\"dataframe\">\n",
              "  <thead>\n",
              "    <tr style=\"text-align: right;\">\n",
              "      <th></th>\n",
              "      <th>school_state</th>\n",
              "      <th>teacher_prefix</th>\n",
              "      <th>project_grade_category</th>\n",
              "      <th>teacher_number_of_previously_posted_projects</th>\n",
              "      <th>clean_categories</th>\n",
              "      <th>clean_subcategories</th>\n",
              "      <th>essay</th>\n",
              "      <th>price</th>\n",
              "    </tr>\n",
              "  </thead>\n",
              "  <tbody>\n",
              "    <tr>\n",
              "      <th>0</th>\n",
              "      <td>ca</td>\n",
              "      <td>mrs</td>\n",
              "      <td>grades_prek_2</td>\n",
              "      <td>53</td>\n",
              "      <td>math_science</td>\n",
              "      <td>appliedsciences health_lifescience</td>\n",
              "      <td>i fortunate enough use fairy tale stem kits cl...</td>\n",
              "      <td>725.05</td>\n",
              "    </tr>\n",
              "  </tbody>\n",
              "</table>\n",
              "</div>\n",
              "      <button class=\"colab-df-convert\" onclick=\"convertToInteractive('df-7dcc382f-067a-4f6c-affa-8381ff90d59c')\"\n",
              "              title=\"Convert this dataframe to an interactive table.\"\n",
              "              style=\"display:none;\">\n",
              "        \n",
              "  <svg xmlns=\"http://www.w3.org/2000/svg\" height=\"24px\"viewBox=\"0 0 24 24\"\n",
              "       width=\"24px\">\n",
              "    <path d=\"M0 0h24v24H0V0z\" fill=\"none\"/>\n",
              "    <path d=\"M18.56 5.44l.94 2.06.94-2.06 2.06-.94-2.06-.94-.94-2.06-.94 2.06-2.06.94zm-11 1L8.5 8.5l.94-2.06 2.06-.94-2.06-.94L8.5 2.5l-.94 2.06-2.06.94zm10 10l.94 2.06.94-2.06 2.06-.94-2.06-.94-.94-2.06-.94 2.06-2.06.94z\"/><path d=\"M17.41 7.96l-1.37-1.37c-.4-.4-.92-.59-1.43-.59-.52 0-1.04.2-1.43.59L10.3 9.45l-7.72 7.72c-.78.78-.78 2.05 0 2.83L4 21.41c.39.39.9.59 1.41.59.51 0 1.02-.2 1.41-.59l7.78-7.78 2.81-2.81c.8-.78.8-2.07 0-2.86zM5.41 20L4 18.59l7.72-7.72 1.47 1.35L5.41 20z\"/>\n",
              "  </svg>\n",
              "      </button>\n",
              "      \n",
              "  <style>\n",
              "    .colab-df-container {\n",
              "      display:flex;\n",
              "      flex-wrap:wrap;\n",
              "      gap: 12px;\n",
              "    }\n",
              "\n",
              "    .colab-df-convert {\n",
              "      background-color: #E8F0FE;\n",
              "      border: none;\n",
              "      border-radius: 50%;\n",
              "      cursor: pointer;\n",
              "      display: none;\n",
              "      fill: #1967D2;\n",
              "      height: 32px;\n",
              "      padding: 0 0 0 0;\n",
              "      width: 32px;\n",
              "    }\n",
              "\n",
              "    .colab-df-convert:hover {\n",
              "      background-color: #E2EBFA;\n",
              "      box-shadow: 0px 1px 2px rgba(60, 64, 67, 0.3), 0px 1px 3px 1px rgba(60, 64, 67, 0.15);\n",
              "      fill: #174EA6;\n",
              "    }\n",
              "\n",
              "    [theme=dark] .colab-df-convert {\n",
              "      background-color: #3B4455;\n",
              "      fill: #D2E3FC;\n",
              "    }\n",
              "\n",
              "    [theme=dark] .colab-df-convert:hover {\n",
              "      background-color: #434B5C;\n",
              "      box-shadow: 0px 1px 3px 1px rgba(0, 0, 0, 0.15);\n",
              "      filter: drop-shadow(0px 1px 2px rgba(0, 0, 0, 0.3));\n",
              "      fill: #FFFFFF;\n",
              "    }\n",
              "  </style>\n",
              "\n",
              "      <script>\n",
              "        const buttonEl =\n",
              "          document.querySelector('#df-7dcc382f-067a-4f6c-affa-8381ff90d59c button.colab-df-convert');\n",
              "        buttonEl.style.display =\n",
              "          google.colab.kernel.accessAllowed ? 'block' : 'none';\n",
              "\n",
              "        async function convertToInteractive(key) {\n",
              "          const element = document.querySelector('#df-7dcc382f-067a-4f6c-affa-8381ff90d59c');\n",
              "          const dataTable =\n",
              "            await google.colab.kernel.invokeFunction('convertToInteractive',\n",
              "                                                     [key], {});\n",
              "          if (!dataTable) return;\n",
              "\n",
              "          const docLinkHtml = 'Like what you see? Visit the ' +\n",
              "            '<a target=\"_blank\" href=https://colab.research.google.com/notebooks/data_table.ipynb>data table notebook</a>'\n",
              "            + ' to learn more about interactive tables.';\n",
              "          element.innerHTML = '';\n",
              "          dataTable['output_type'] = 'display_data';\n",
              "          await google.colab.output.renderOutput(dataTable, element);\n",
              "          const docLink = document.createElement('div');\n",
              "          docLink.innerHTML = docLinkHtml;\n",
              "          element.appendChild(docLink);\n",
              "        }\n",
              "      </script>\n",
              "    </div>\n",
              "  </div>\n",
              "  "
            ],
            "text/plain": [
              "  school_state  ...   price\n",
              "0           ca  ...  725.05\n",
              "\n",
              "[1 rows x 8 columns]"
            ]
          },
          "metadata": {},
          "execution_count": 5
        }
      ]
    },
    {
      "cell_type": "markdown",
      "metadata": {
        "id": "WtVV13Fyb3dH"
      },
      "source": [
        "<h2>1.2 Splitting data into Train and cross validation(or test): Stratified Sampling</h2>"
      ]
    },
    {
      "cell_type": "code",
      "execution_count": null,
      "metadata": {
        "id": "tI32fwe-ublL"
      },
      "outputs": [],
      "source": [
        "# write your code in following steps for task 1\n",
        "# 1. Split your data.\n",
        "# 2. Perform Bag of Words Vectorization of text data.\n",
        "# 3. Perform tfidf vectorization of text data.\n",
        "# 4. perform one-hot encoding of categorical features.\n",
        "# 5. perform normalization of numerical features\n",
        "# 6. For set 1 stack up all the features using hstack()\n",
        "# 7. For set 2 stack up all the features using hstack()\n",
        "# 8. Perform hyperparameter tuning and represent the training and cross-validation AUC scores for different 'alpha' values, using a 2D line plot.\n",
        "# 9. Find the best hyperparameter 'alpha' and fit the model. Plot ROC-AUC curve(by obtaining the probabilities using 'predict proba' method)\n",
        "# 10. Plot confusion matrix based on the best threshold value\n",
        "# 11. Either for the model in set 1 or in set 2, print the top 20 features(you have to print the names, not the indexes) associated with the positive and negative classes each.\n",
        "# 12. Summarize your observations and compare both the models(ie., from set 1 and set 2) in terms of optimal hyperparameter value, train AUC and test AUC scores. \n",
        "# 13. You can use Prettytable or any other tabular format for comparison.\n",
        "\n",
        "\n",
        "# please write all the code with proper documentation, and proper titles for each subsection\n",
        "# go through documentations and blogs before you start coding\n",
        "# first figure out what to do, and then think about how to do.\n",
        "# reading and understanding error messages will be very much helpfull in debugging your code\n",
        "# when you plot any graph make sure you use \n",
        "    # a. Title, that describes your plot, this will be very helpful to the reader\n",
        "    # b. Legends if needed\n",
        "    # c. X-axis label\n",
        "    # d. Y-axis label\n",
        "    "
      ]
    },
    {
      "cell_type": "code",
      "execution_count": null,
      "metadata": {
        "id": "i-PyprDNb3dI"
      },
      "outputs": [],
      "source": [
        "# Split the dataset \n",
        "# 1) If you want to apply simple cross-validation, split the dataset into 3 parts (ie., train, CV and test sets)\n",
        "# 2) If you want to apply K-fold CV (or) GridSearch Cross Validation (or) Randomized Search Cross Validation, just split the dataset into 2 parts (ie., train and test sets)\n",
        "\n"
      ]
    },
    {
      "cell_type": "code",
      "source": [
        "# train test split\n",
        "from sklearn.model_selection import train_test_split\n",
        "X_train, X_test, y_train, y_test = train_test_split(X, y, test_size=0.33, stratify=y)\n",
        "\n",
        "print(X_train.shape , y_train.shape)\n",
        "print(X_test.shape, y_test.shape)\n",
        "print('**'*50)"
      ],
      "metadata": {
        "id": "w1wdKkT9CjYN",
        "outputId": "b67a162b-f140-4bed-b776-741aa7e0812b",
        "colab": {
          "base_uri": "https://localhost:8080/"
        }
      },
      "execution_count": null,
      "outputs": [
        {
          "output_type": "stream",
          "name": "stdout",
          "text": [
            "(33500, 8) (33500,)\n",
            "(16500, 8) (16500,)\n",
            "****************************************************************************************************\n"
          ]
        }
      ]
    },
    {
      "cell_type": "markdown",
      "metadata": {
        "id": "EnZwVNULb3dO"
      },
      "source": [
        "<h2>1.3 Make Data Model Ready: encoding essay, and project_title</h2>"
      ]
    },
    {
      "cell_type": "code",
      "execution_count": null,
      "metadata": {
        "id": "Hznw_tb8ublQ"
      },
      "outputs": [],
      "source": [
        "# Apply Bag of Words (BOW) vectorization on 'Preprocessed_Essay' \n",
        "# Apply Bag of Words (BOW) vectorization on 'Preprocessed_Title' (Optional)\n"
      ]
    },
    {
      "cell_type": "code",
      "execution_count": null,
      "metadata": {
        "id": "hedJ9HnDublR"
      },
      "outputs": [],
      "source": [
        "# Apply TF-IDF vectorization on 'Preprocessed_Essay' \n",
        "# Apply TF-IDF vectorization on 'Preprocessed_Title' (Optional)\n"
      ]
    },
    {
      "cell_type": "code",
      "source": [
        "# encoding essay attribute using count vectorizer\n",
        "vectorizer = CountVectorizer(min_df=10,ngram_range=(1,4), max_features=5000)\n",
        "vectorizer.fit(X_train['essay'].values)\n",
        "essay_feature_bow=vectorizer.get_feature_names()\n",
        "X_train_essay_bow=vectorizer.transform(X_train['essay'].values)\n",
        "X_test_essay_bow=vectorizer.transform(X_test['essay'].values)\n",
        "\n",
        "print(\" after encoding in bow the size of :\")\n",
        "print(\" train feature --\",X_train_essay_bow.shape,y_train.shape)\n",
        "print(\"test feature --\",X_test_essay_bow.shape,y_test.shape)\n",
        "# print('the features are : ',essay_feature_bow)\n",
        "print('**'*50)\n",
        "\n",
        "# encoding school_state using count vectorizer\n",
        "vectorizer=CountVectorizer()\n",
        "vectorizer.fit(X_train['school_state'].values)\n",
        "school_state_feature_bow=vectorizer.get_feature_names()\n",
        "X_train_school_state_bow=vectorizer.transform(X_train['school_state'].values)\n",
        "X_test_school_state_bow=vectorizer.transform(X_test['school_state'].values)\n",
        "\n",
        "print(\" after encoding in bow the size of :\")\n",
        "print(\" train feature --\",X_train_school_state_bow.shape,y_train.shape)\n",
        "print(\"test feature --\",X_test_school_state_bow.shape,y_test.shape)\n",
        "print('the features are : ',school_state_feature_bow)\n",
        "print('**'*50)\n",
        "#encoding teacher_prefix using count vectorizer\n",
        "vectorizer=CountVectorizer()\n",
        "vectorizer.fit(X_train['teacher_prefix'].values)\n",
        "teacher_prefix_feature_bow=vectorizer.get_feature_names()\n",
        "X_train_teacher_prefix_bow=vectorizer.transform(X_train['teacher_prefix'].values)\n",
        "X_test_teacher_prefix_bow=vectorizer.transform(X_test['teacher_prefix'].values)\n",
        "\n",
        "print(\" after encoding in bow the size of :\")\n",
        "print(\" train feature --\",X_train_teacher_prefix_bow.shape,y_train.shape)\n",
        "print(\"test feature --\",X_test_teacher_prefix_bow.shape,y_test.shape)\n",
        "print('the features are : ',teacher_prefix_feature_bow)\n",
        "print('**'*50)\n",
        "\n",
        "#encoding project_grade_category using count vectorizer\n",
        "vectorizer=CountVectorizer()\n",
        "vectorizer.fit(X_train['project_grade_category'].values)\n",
        "project_grade_category_feature_bow=vectorizer.get_feature_names()\n",
        "X_train_project_grade_category_bow=vectorizer.transform(X_train['project_grade_category'].values)\n",
        "X_test_project_grade_category_bow=vectorizer.transform(X_test['project_grade_category'].values)\n",
        "\n",
        "print(\" after encoding in bow the size of :\")\n",
        "print(\" train feature --\",X_train_project_grade_category_bow.shape,y_train.shape)\n",
        "print(\"test feature --\",X_test_project_grade_category_bow.shape,y_test.shape)\n",
        "print('the features are : ',project_grade_category_feature_bow)\n",
        "print('**'*50)\n",
        "\n",
        "#encoding clean_categories using count vectorizer\n",
        "vectorizer=CountVectorizer()\n",
        "vectorizer.fit(X_train['clean_categories'].values)\n",
        "clean_categories_feature_bow=vectorizer.get_feature_names()\n",
        "X_train_clean_categories_bow=vectorizer.transform(X_train['clean_categories'].values)\n",
        "X_test_clean_categories_bow=vectorizer.transform(X_test['clean_categories'].values)\n",
        "\n",
        "print(\" after encoding in bow the size of :\")\n",
        "print(\" train feature --\",X_train_clean_categories_bow.shape,y_train.shape)\n",
        "print(\"test feature --\",X_test_clean_categories_bow.shape,y_test.shape)\n",
        "print('the features are : ',clean_categories_feature_bow)\n",
        "print('**'*50)\n",
        "\n",
        "#encoding clean_subcategories using count vectorizer\n",
        "vectorizer=CountVectorizer()\n",
        "vectorizer.fit(X_train['clean_subcategories'].values)\n",
        "clean_subcategories_feature_bow=vectorizer.get_feature_names()\n",
        "X_train_clean_subcategories_bow=vectorizer.transform(X_train['clean_subcategories'].values)\n",
        "X_test_clean_subcategories_bow=vectorizer.transform(X_test['clean_subcategories'].values)\n",
        "\n",
        "print(\" after encoding in bow the size of :\")\n",
        "print(\" train feature --\",X_train_clean_subcategories_bow.shape,y_train.shape)\n",
        "print(\"test feature --\",X_test_clean_subcategories_bow.shape,y_test.shape)\n",
        "print('the features are : ',clean_subcategories_feature_bow)\n",
        "print('**'*50)"
      ],
      "metadata": {
        "id": "CVCcMeIxSVGH",
        "outputId": "7d639ee6-8cea-4cfa-f228-69deafadbb90",
        "colab": {
          "base_uri": "https://localhost:8080/"
        }
      },
      "execution_count": null,
      "outputs": [
        {
          "output_type": "stream",
          "name": "stdout",
          "text": [
            " after encoding in bow the size of :\n",
            " train feature -- (33500, 5000) (33500,)\n",
            "test feature -- (16500, 5000) (16500,)\n",
            "****************************************************************************************************\n",
            " after encoding in bow the size of :\n",
            " train feature -- (33500, 51) (33500,)\n",
            "test feature -- (16500, 51) (16500,)\n",
            "the features are :  ['ak', 'al', 'ar', 'az', 'ca', 'co', 'ct', 'dc', 'de', 'fl', 'ga', 'hi', 'ia', 'id', 'il', 'in', 'ks', 'ky', 'la', 'ma', 'md', 'me', 'mi', 'mn', 'mo', 'ms', 'mt', 'nc', 'nd', 'ne', 'nh', 'nj', 'nm', 'nv', 'ny', 'oh', 'ok', 'or', 'pa', 'ri', 'sc', 'sd', 'tn', 'tx', 'ut', 'va', 'vt', 'wa', 'wi', 'wv', 'wy']\n",
            "****************************************************************************************************\n",
            " after encoding in bow the size of :\n",
            " train feature -- (33500, 5) (33500,)\n",
            "test feature -- (16500, 5) (16500,)\n",
            "the features are :  ['dr', 'mr', 'mrs', 'ms', 'teacher']\n",
            "****************************************************************************************************\n",
            " after encoding in bow the size of :\n",
            " train feature -- (33500, 4) (33500,)\n",
            "test feature -- (16500, 4) (16500,)\n",
            "the features are :  ['grades_3_5', 'grades_6_8', 'grades_9_12', 'grades_prek_2']\n",
            "****************************************************************************************************\n",
            " after encoding in bow the size of :\n",
            " train feature -- (33500, 9) (33500,)\n",
            "test feature -- (16500, 9) (16500,)\n",
            "the features are :  ['appliedlearning', 'care_hunger', 'health_sports', 'history_civics', 'literacy_language', 'math_science', 'music_arts', 'specialneeds', 'warmth']\n",
            "****************************************************************************************************\n",
            " after encoding in bow the size of :\n",
            " train feature -- (33500, 30) (33500,)\n",
            "test feature -- (16500, 30) (16500,)\n",
            "the features are :  ['appliedsciences', 'care_hunger', 'charactereducation', 'civics_government', 'college_careerprep', 'communityservice', 'earlydevelopment', 'economics', 'environmentalscience', 'esl', 'extracurricular', 'financialliteracy', 'foreignlanguages', 'gym_fitness', 'health_lifescience', 'health_wellness', 'history_geography', 'literacy', 'literature_writing', 'mathematics', 'music', 'nutritioneducation', 'other', 'parentinvolvement', 'performingarts', 'socialsciences', 'specialneeds', 'teamsports', 'visualarts', 'warmth']\n",
            "****************************************************************************************************\n"
          ]
        }
      ]
    },
    {
      "cell_type": "code",
      "source": [
        "# encoding essay attribute using count vectorizer\n",
        "vectorizer = TfidfVectorizer(min_df=10,ngram_range=(1,4), max_features=5000)\n",
        "vectorizer.fit(X_train['essay'].values)\n",
        "essay_feature_TF=vectorizer.get_feature_names()\n",
        "X_train_essay_TF=vectorizer.transform(X_train['essay'].values)\n",
        "X_test_essay_TF=vectorizer.transform(X_test['essay'].values)\n",
        "\n",
        "print(\" after encoding in bow the size of :\")\n",
        "print(\" train feature --\",X_train_essay_TF.shape,y_train.shape)\n",
        "print(\"test feature --\",X_test_essay_TF.shape,y_test.shape)\n",
        "# print('the features are : ',essay_feature_bow)\n",
        "print('**'*50)\n",
        "\n",
        "# encoding school_state using count vectorizer\n",
        "vectorizer=TfidfVectorizer()\n",
        "vectorizer.fit(X_train['school_state'].values)\n",
        "school_state_feature_TF=vectorizer.get_feature_names()\n",
        "X_train_school_state_TF=vectorizer.transform(X_train['school_state'].values)\n",
        "X_test_school_state_TF=vectorizer.transform(X_test['school_state'].values)\n",
        "\n",
        "print(\" after encoding in bow the size of :\")\n",
        "print(\" train feature --\",X_train_school_state_TF.shape,y_train.shape)\n",
        "print(\"test feature --\",X_test_school_state_TF.shape,y_test.shape)\n",
        "print('the features are : ',school_state_feature_TF)\n",
        "print('**'*50)\n",
        "\n",
        "#encoding teacher_prefix using count vectorizer\n",
        "vectorizer=TfidfVectorizer()\n",
        "vectorizer.fit(X_train['teacher_prefix'].values)\n",
        "teacher_prefix_feature_TF=vectorizer.get_feature_names()\n",
        "X_train_teacher_prefix_TF=vectorizer.transform(X_train['teacher_prefix'].values)\n",
        "X_test_teacher_prefix_TF=vectorizer.transform(X_test['teacher_prefix'].values)\n",
        "\n",
        "print(\" after encoding in bow the size of :\")\n",
        "print(\" train feature --\",X_train_teacher_prefix_TF.shape,y_train.shape)\n",
        "print(\"test feature --\",X_test_teacher_prefix_TF.shape,y_test.shape)\n",
        "print('the features are : ',teacher_prefix_feature_TF)\n",
        "print('**'*50)\n",
        "\n",
        "#encoding project_grade_category using count vectorizer\n",
        "vectorizer=TfidfVectorizer()\n",
        "vectorizer.fit(X_train['project_grade_category'].values)\n",
        "project_grade_category_feature_TF=vectorizer.get_feature_names()\n",
        "X_train_project_grade_category_TF=vectorizer.transform(X_train['project_grade_category'].values)\n",
        "X_test_project_grade_category_TF=vectorizer.transform(X_test['project_grade_category'].values)\n",
        "\n",
        "print(\" after encoding in bow the size of :\")\n",
        "print(\" train feature --\",X_train_project_grade_category_TF.shape,y_train.shape)\n",
        "print(\"test feature --\",X_test_project_grade_category_TF.shape,y_test.shape)\n",
        "print('the features are : ',project_grade_category_feature_TF)\n",
        "print('**'*50)\n",
        "\n",
        "#encoding clean_categories using count vectorizer\n",
        "vectorizer=TfidfVectorizer()\n",
        "vectorizer.fit(X_train['clean_categories'].values)\n",
        "clean_categories_feature_TF=vectorizer.get_feature_names()\n",
        "X_train_clean_categories_TF=vectorizer.transform(X_train['clean_categories'].values)\n",
        "X_test_clean_categories_TF=vectorizer.transform(X_test['clean_categories'].values)\n",
        "\n",
        "print(\" after encoding in bow the size of :\")\n",
        "print(\" train feature --\",X_train_clean_categories_TF.shape,y_train.shape)\n",
        "print(\"test feature --\",X_test_clean_categories_TF.shape,y_test.shape)\n",
        "print('the features are : ',clean_categories_feature_TF)\n",
        "\n",
        "#encoding clean_subcategories using count vectorizer\n",
        "vectorizer=TfidfVectorizer()\n",
        "vectorizer.fit(X_train['clean_subcategories'].values)\n",
        "clean_subcategories_feature_TF=vectorizer.get_feature_names()\n",
        "X_train_clean_subcategories_TF=vectorizer.transform(X_train['clean_subcategories'].values)\n",
        "X_test_clean_subcategories_TF=vectorizer.transform(X_test['clean_subcategories'].values)\n",
        "\n",
        "print(\" after encoding in bow the size of :\")\n",
        "print(\" train feature --\",X_train_clean_subcategories_TF.shape,y_train.shape)\n",
        "print(\"test feature --\",X_test_clean_subcategories_TF.shape,y_test.shape)\n",
        "print('the features are : ',clean_subcategories_feature_TF)\n",
        "print('**'*50)"
      ],
      "metadata": {
        "id": "CfZ-OQUTzsWu",
        "outputId": "70ffe21a-e21d-4dbd-8a32-32696a58cec5",
        "colab": {
          "base_uri": "https://localhost:8080/"
        }
      },
      "execution_count": null,
      "outputs": [
        {
          "output_type": "stream",
          "name": "stdout",
          "text": [
            " after encoding in bow the size of :\n",
            " train feature -- (33500, 5000) (33500,)\n",
            "test feature -- (16500, 5000) (16500,)\n",
            "****************************************************************************************************\n",
            " after encoding in bow the size of :\n",
            " train feature -- (33500, 51) (33500,)\n",
            "test feature -- (16500, 51) (16500,)\n",
            "the features are :  ['ak', 'al', 'ar', 'az', 'ca', 'co', 'ct', 'dc', 'de', 'fl', 'ga', 'hi', 'ia', 'id', 'il', 'in', 'ks', 'ky', 'la', 'ma', 'md', 'me', 'mi', 'mn', 'mo', 'ms', 'mt', 'nc', 'nd', 'ne', 'nh', 'nj', 'nm', 'nv', 'ny', 'oh', 'ok', 'or', 'pa', 'ri', 'sc', 'sd', 'tn', 'tx', 'ut', 'va', 'vt', 'wa', 'wi', 'wv', 'wy']\n",
            "****************************************************************************************************\n",
            " after encoding in bow the size of :\n",
            " train feature -- (33500, 5) (33500,)\n",
            "test feature -- (16500, 5) (16500,)\n",
            "the features are :  ['dr', 'mr', 'mrs', 'ms', 'teacher']\n",
            "****************************************************************************************************\n",
            " after encoding in bow the size of :\n",
            " train feature -- (33500, 4) (33500,)\n",
            "test feature -- (16500, 4) (16500,)\n",
            "the features are :  ['grades_3_5', 'grades_6_8', 'grades_9_12', 'grades_prek_2']\n",
            "****************************************************************************************************\n",
            " after encoding in bow the size of :\n",
            " train feature -- (33500, 9) (33500,)\n",
            "test feature -- (16500, 9) (16500,)\n",
            "the features are :  ['appliedlearning', 'care_hunger', 'health_sports', 'history_civics', 'literacy_language', 'math_science', 'music_arts', 'specialneeds', 'warmth']\n",
            " after encoding in bow the size of :\n",
            " train feature -- (33500, 30) (33500,)\n",
            "test feature -- (16500, 30) (16500,)\n",
            "the features are :  ['appliedsciences', 'care_hunger', 'charactereducation', 'civics_government', 'college_careerprep', 'communityservice', 'earlydevelopment', 'economics', 'environmentalscience', 'esl', 'extracurricular', 'financialliteracy', 'foreignlanguages', 'gym_fitness', 'health_lifescience', 'health_wellness', 'history_geography', 'literacy', 'literature_writing', 'mathematics', 'music', 'nutritioneducation', 'other', 'parentinvolvement', 'performingarts', 'socialsciences', 'specialneeds', 'teamsports', 'visualarts', 'warmth']\n",
            "****************************************************************************************************\n"
          ]
        }
      ]
    },
    {
      "cell_type": "markdown",
      "metadata": {
        "id": "bGy86kgHb3dX"
      },
      "source": [
        "<h2>1.4 Make Data Model Ready: encoding numerical, categorical features</h2>"
      ]
    },
    {
      "cell_type": "code",
      "execution_count": null,
      "metadata": {
        "id": "EfXkofX1b3da"
      },
      "outputs": [],
      "source": [
        "# Apply One-Hot Encoding on the categorical features either using OneHotEncoder() (or) CountVectorizer(binary=True)\n",
        "# Apply Normalization on the numerical features using Normalizer().\n"
      ]
    },
    {
      "cell_type": "code",
      "source": [
        "normalizer = Normalizer()\n",
        "normalizer.fit(X_train['price'].values.reshape(-1,1))\n",
        "X_train_price_norm=normalizer.transform(X_train['price'].values.reshape(-1,1))\n",
        "X_test_price_norm=normalizer.transform(X_test['price'].values.reshape(-1,1))\n",
        "\n",
        "print(\" after encoding using normalizer the size of :\")\n",
        "print(\" train feature --\",X_train_price_norm.shape,y_train.shape)\n",
        "print(\"test feature --\",X_test_price_norm.shape,y_test.shape)\n",
        "print('**'*50)\n",
        "\n",
        "\n",
        "normalizer = Normalizer()\n",
        "normalizer.fit(X_train['teacher_number_of_previously_posted_projects'].values.reshape(-1,1))\n",
        "X_train_teacher_number_of_previously_posted_projects_norm=normalizer.transform(X_train['teacher_number_of_previously_posted_projects'].values.reshape(-1,1))\n",
        "X_test_teacher_number_of_previously_posted_projects_norm=normalizer.transform(X_test['teacher_number_of_previously_posted_projects'].values.reshape(-1,1))\n",
        "\n",
        "print(\" after encoding using normalizer the size of :\")\n",
        "print(\" train feature --\",X_train_teacher_number_of_previously_posted_projects_norm.shape,y_train.shape)\n",
        "print(\"test feature --\",X_test_teacher_number_of_previously_posted_projects_norm.shape,y_test.shape)\n",
        "print('**'*50)"
      ],
      "metadata": {
        "id": "G-ZDFTcz0IVO",
        "outputId": "2eea56d1-0648-48ad-e4c5-6e2a2862986d",
        "colab": {
          "base_uri": "https://localhost:8080/"
        }
      },
      "execution_count": null,
      "outputs": [
        {
          "output_type": "stream",
          "name": "stdout",
          "text": [
            " after encoding using normalizer the size of :\n",
            " train feature -- (33500, 1) (33500,)\n",
            "test feature -- (16500, 1) (16500,)\n",
            "****************************************************************************************************\n",
            " after encoding using normalizer the size of :\n",
            " train feature -- (33500, 1) (33500,)\n",
            "test feature -- (16500, 1) (16500,)\n",
            "****************************************************************************************************\n"
          ]
        }
      ]
    },
    {
      "cell_type": "code",
      "source": [
        "# merge two sparse matrices\n",
        "from scipy.sparse import hstack\n",
        "X_train_BOW = hstack((X_train_essay_bow, X_train_school_state_bow, X_train_teacher_prefix_bow, X_train_project_grade_category_bow,X_train_clean_categories_bow,X_train_clean_subcategories_bow, X_train_price_norm,X_train_teacher_number_of_previously_posted_projects_norm)).tocsr()\n",
        "X_test_BOW = hstack((X_test_essay_bow, X_test_school_state_bow, X_test_teacher_prefix_bow, X_test_project_grade_category_bow,X_test_clean_categories_bow,X_test_clean_subcategories_bow, X_test_price_norm,X_test_teacher_number_of_previously_posted_projects_norm)).tocsr()\n",
        "\n",
        "print(X_train_BOW.shape, y_train.shape)\n",
        "print(X_test_BOW.shape, y_test.shape)\n",
        "print('**'*50)\n",
        "\n",
        "X_train_TFIDF = hstack((X_train_essay_TF, X_train_school_state_TF, X_train_teacher_prefix_TF, X_train_project_grade_category_TF,X_train_clean_categories_TF,X_train_clean_subcategories_TF, X_train_price_norm,X_train_teacher_number_of_previously_posted_projects_norm)).tocsr()\n",
        "X_test_TFIDF = hstack((X_test_essay_TF, X_test_school_state_TF, X_test_teacher_prefix_TF, X_test_project_grade_category_TF,X_test_clean_categories_TF,X_test_clean_subcategories_TF, X_test_price_norm,X_test_teacher_number_of_previously_posted_projects_norm)).tocsr()\n",
        "\n",
        "print(X_train_TFIDF.shape, y_train.shape)\n",
        "print(X_test_TFIDF.shape, y_test.shape)\n",
        "print('**'*50)"
      ],
      "metadata": {
        "id": "VYMNsZy40xRQ",
        "outputId": "75c9867d-208d-45a1-d4f0-86cc210df237",
        "colab": {
          "base_uri": "https://localhost:8080/"
        }
      },
      "execution_count": null,
      "outputs": [
        {
          "output_type": "stream",
          "name": "stdout",
          "text": [
            "(33500, 5101) (33500,)\n",
            "(16500, 5101) (16500,)\n",
            "****************************************************************************************************\n",
            "(33500, 5101) (33500,)\n",
            "(16500, 5101) (16500,)\n",
            "****************************************************************************************************\n"
          ]
        }
      ]
    },
    {
      "cell_type": "markdown",
      "metadata": {
        "id": "yYHPYadYb3dh"
      },
      "source": [
        "<h2>1.5 Appling NB on different kind of featurization as mentioned in the instructions</h2>\n",
        "\n",
        "<br>Apply NB on different kind of featurization as mentioned in the instructions\n",
        "<br> For Every model that you work on make sure you do the step 2 and step 3 of instrucations"
      ]
    },
    {
      "cell_type": "markdown",
      "metadata": {
        "id": "DNwqilFxb3di"
      },
      "source": [
        "#### Set 1"
      ]
    },
    {
      "cell_type": "code",
      "execution_count": null,
      "metadata": {
        "id": "RAf1c2t0ublY"
      },
      "outputs": [],
      "source": [
        "# Perform Hyperparameter Tuning.\n",
        "# Plot the training and the CV AUC scores, for different values of 'alpha', using a 2D line plot\n",
        "\n"
      ]
    },
    {
      "cell_type": "code",
      "execution_count": null,
      "metadata": {
        "id": "IWwOEzowublZ"
      },
      "outputs": [],
      "source": [
        "# Obtain the optimal value for 'alpha' and using the obtained optimal 'alpha' value, fit a multinomial naive bayes model, on the train data,\n",
        "# Note: If you have split the datase into 3 parts (ie., train, cv and test sets) in the beginning, then the training datafor this final model would be (train set + cv set)\n",
        "# Make class label and probability predictions on the train and test data.\n"
      ]
    },
    {
      "cell_type": "code",
      "execution_count": null,
      "metadata": {
        "id": "kZUgcsDoubla"
      },
      "outputs": [],
      "source": [
        "# Plot the ROC-AUC curves using the probability predictions made on train and test data.\n"
      ]
    },
    {
      "cell_type": "code",
      "execution_count": null,
      "metadata": {
        "id": "d1zscBS2ublb"
      },
      "outputs": [],
      "source": [
        "# Pick the best threshold among the probability estimates, such that it has to yield maximum value for TPR*(1-FPR)\n",
        "# Plot the confusion matrices(each for train and test data) afer encoding the predicted class labels, on the basis of the best threshod probability estimate.\n"
      ]
    },
    {
      "cell_type": "code",
      "source": [
        "from sklearn.naive_bayes import MultinomialNB\n",
        "from sklearn.model_selection import GridSearchCV\n",
        "\n",
        "model = MultinomialNB()\n",
        "parameters = {'alpha':[0.0001, 0.001, 0.01, 0.1,1,10,100,1000,10000]}   # values changed to interval(10^[-4] to 10^4) as suggested\n",
        "clf = GridSearchCV(model, parameters, cv=5, scoring='roc_auc',return_train_score=True,n_jobs=-1)\n",
        "clf.fit(X_train_BOW, y_train)\n",
        "\n",
        "results = pd.DataFrame.from_dict(clf.cv_results_)\n",
        "results = results.sort_values(['param_alpha'])\n",
        "train_auc= results['mean_train_score']\n",
        "train_auc_std= results['std_train_score']\n",
        "cv_auc = results['mean_test_score'] \n",
        "cv_auc_std= results['std_test_score']\n",
        "K =  results['param_alpha']\n",
        "\n",
        "plt.plot(K, train_auc, label='Train AUC')\n",
        "\n",
        "plt.plot(K, cv_auc, label='CV AUC')\n",
        "\n",
        "plt.scatter(K, train_auc, label='Train AUC points')\n",
        "plt.scatter(K, cv_auc, label='CV AUC points')\n",
        "\n",
        "plt.legend()\n",
        "plt.xlabel(\"Alfa Hyperparameter\")\n",
        "plt.ylabel(\"AUC\")\n",
        "plt.title(\"Hyper parameter Vs AUC plot\")\n",
        "plt.grid()\n",
        "plt.show()\n",
        "\n",
        "results"
      ],
      "metadata": {
        "id": "6vPZE26W1kWr",
        "outputId": "75f2e243-5c73-46df-f805-55748f49872c",
        "colab": {
          "base_uri": "https://localhost:8080/",
          "height": 830
        }
      },
      "execution_count": null,
      "outputs": [
        {
          "output_type": "display_data",
          "data": {
            "image/png": "[encoded data removed]",
            "text/plain": [
              "<Figure size 432x288 with 1 Axes>"
            ]
          },
          "metadata": {
            "needs_background": "light"
          }
        },
        {
          "output_type": "execute_result",
          "data": {
            "text/html": [
              "\n",
              "  <div id=\"df-fbcb08fe-8d42-469b-991b-4a43443ecc23\">\n",
              "    <div class=\"colab-df-container\">\n",
              "      <div>\n",
              "<style scoped>\n",
              "    .dataframe tbody tr th:only-of-type {\n",
              "        vertical-align: middle;\n",
              "    }\n",
              "\n",
              "    .dataframe tbody tr th {\n",
              "        vertical-align: top;\n",
              "    }\n",
              "\n",
              "    .dataframe thead th {\n",
              "        text-align: right;\n",
              "    }\n",
              "</style>\n",
              "<table border=\"1\" class=\"dataframe\">\n",
              "  <thead>\n",
              "    <tr style=\"text-align: right;\">\n",
              "      <th></th>\n",
              "      <th>mean_fit_time</th>\n",
              "      <th>std_fit_time</th>\n",
              "      <th>mean_score_time</th>\n",
              "      <th>std_score_time</th>\n",
              "      <th>param_alpha</th>\n",
              "      <th>params</th>\n",
              "      <th>split0_test_score</th>\n",
              "      <th>split1_test_score</th>\n",
              "      <th>split2_test_score</th>\n",
              "      <th>split3_test_score</th>\n",
              "      <th>split4_test_score</th>\n",
              "      <th>mean_test_score</th>\n",
              "      <th>std_test_score</th>\n",
              "      <th>rank_test_score</th>\n",
              "      <th>split0_train_score</th>\n",
              "      <th>split1_train_score</th>\n",
              "      <th>split2_train_score</th>\n",
              "      <th>split3_train_score</th>\n",
              "      <th>split4_train_score</th>\n",
              "      <th>mean_train_score</th>\n",
              "      <th>std_train_score</th>\n",
              "    </tr>\n",
              "  </thead>\n",
              "  <tbody>\n",
              "    <tr>\n",
              "      <th>0</th>\n",
              "      <td>0.073863</td>\n",
              "      <td>0.002605</td>\n",
              "      <td>0.015753</td>\n",
              "      <td>0.000343</td>\n",
              "      <td>0.0001</td>\n",
              "      <td>{'alpha': 0.0001}</td>\n",
              "      <td>0.705612</td>\n",
              "      <td>0.705104</td>\n",
              "      <td>0.685337</td>\n",
              "      <td>0.686083</td>\n",
              "      <td>0.672447</td>\n",
              "      <td>0.690917</td>\n",
              "      <td>0.012750</td>\n",
              "      <td>4</td>\n",
              "      <td>0.742505</td>\n",
              "      <td>0.746049</td>\n",
              "      <td>0.746650</td>\n",
              "      <td>0.747622</td>\n",
              "      <td>0.746332</td>\n",
              "      <td>0.745831</td>\n",
              "      <td>0.001746</td>\n",
              "    </tr>\n",
              "    <tr>\n",
              "      <th>1</th>\n",
              "      <td>0.067336</td>\n",
              "      <td>0.008094</td>\n",
              "      <td>0.015786</td>\n",
              "      <td>0.000283</td>\n",
              "      <td>0.001</td>\n",
              "      <td>{'alpha': 0.001}</td>\n",
              "      <td>0.705851</td>\n",
              "      <td>0.705102</td>\n",
              "      <td>0.685337</td>\n",
              "      <td>0.686083</td>\n",
              "      <td>0.672446</td>\n",
              "      <td>0.690964</td>\n",
              "      <td>0.012805</td>\n",
              "      <td>3</td>\n",
              "      <td>0.742503</td>\n",
              "      <td>0.746048</td>\n",
              "      <td>0.746649</td>\n",
              "      <td>0.747621</td>\n",
              "      <td>0.746331</td>\n",
              "      <td>0.745830</td>\n",
              "      <td>0.001746</td>\n",
              "    </tr>\n",
              "    <tr>\n",
              "      <th>2</th>\n",
              "      <td>0.073302</td>\n",
              "      <td>0.005715</td>\n",
              "      <td>0.015485</td>\n",
              "      <td>0.000197</td>\n",
              "      <td>0.01</td>\n",
              "      <td>{'alpha': 0.01}</td>\n",
              "      <td>0.706082</td>\n",
              "      <td>0.705093</td>\n",
              "      <td>0.685332</td>\n",
              "      <td>0.686082</td>\n",
              "      <td>0.672440</td>\n",
              "      <td>0.691006</td>\n",
              "      <td>0.012860</td>\n",
              "      <td>1</td>\n",
              "      <td>0.742492</td>\n",
              "      <td>0.746037</td>\n",
              "      <td>0.746638</td>\n",
              "      <td>0.747610</td>\n",
              "      <td>0.746322</td>\n",
              "      <td>0.745820</td>\n",
              "      <td>0.001746</td>\n",
              "    </tr>\n",
              "    <tr>\n",
              "      <th>3</th>\n",
              "      <td>0.068600</td>\n",
              "      <td>0.000470</td>\n",
              "      <td>0.016280</td>\n",
              "      <td>0.000656</td>\n",
              "      <td>0.1</td>\n",
              "      <td>{'alpha': 0.1}</td>\n",
              "      <td>0.706256</td>\n",
              "      <td>0.705058</td>\n",
              "      <td>0.685274</td>\n",
              "      <td>0.686039</td>\n",
              "      <td>0.672367</td>\n",
              "      <td>0.690999</td>\n",
              "      <td>0.012922</td>\n",
              "      <td>2</td>\n",
              "      <td>0.742392</td>\n",
              "      <td>0.745933</td>\n",
              "      <td>0.746547</td>\n",
              "      <td>0.747512</td>\n",
              "      <td>0.746225</td>\n",
              "      <td>0.745722</td>\n",
              "      <td>0.001748</td>\n",
              "    </tr>\n",
              "    <tr>\n",
              "      <th>4</th>\n",
              "      <td>0.067221</td>\n",
              "      <td>0.001313</td>\n",
              "      <td>0.016068</td>\n",
              "      <td>0.000454</td>\n",
              "      <td>1</td>\n",
              "      <td>{'alpha': 1}</td>\n",
              "      <td>0.705932</td>\n",
              "      <td>0.704509</td>\n",
              "      <td>0.684600</td>\n",
              "      <td>0.685672</td>\n",
              "      <td>0.671685</td>\n",
              "      <td>0.690480</td>\n",
              "      <td>0.013012</td>\n",
              "      <td>5</td>\n",
              "      <td>0.741445</td>\n",
              "      <td>0.744885</td>\n",
              "      <td>0.745612</td>\n",
              "      <td>0.746532</td>\n",
              "      <td>0.745292</td>\n",
              "      <td>0.744753</td>\n",
              "      <td>0.001741</td>\n",
              "    </tr>\n",
              "    <tr>\n",
              "      <th>5</th>\n",
              "      <td>0.067307</td>\n",
              "      <td>0.003456</td>\n",
              "      <td>0.017195</td>\n",
              "      <td>0.002620</td>\n",
              "      <td>10</td>\n",
              "      <td>{'alpha': 10}</td>\n",
              "      <td>0.700676</td>\n",
              "      <td>0.698977</td>\n",
              "      <td>0.677529</td>\n",
              "      <td>0.681020</td>\n",
              "      <td>0.664751</td>\n",
              "      <td>0.684591</td>\n",
              "      <td>0.013579</td>\n",
              "      <td>6</td>\n",
              "      <td>0.732033</td>\n",
              "      <td>0.734657</td>\n",
              "      <td>0.736252</td>\n",
              "      <td>0.736956</td>\n",
              "      <td>0.736075</td>\n",
              "      <td>0.735194</td>\n",
              "      <td>0.001748</td>\n",
              "    </tr>\n",
              "    <tr>\n",
              "      <th>6</th>\n",
              "      <td>0.066105</td>\n",
              "      <td>0.003337</td>\n",
              "      <td>0.015405</td>\n",
              "      <td>0.000183</td>\n",
              "      <td>100</td>\n",
              "      <td>{'alpha': 100}</td>\n",
              "      <td>0.644935</td>\n",
              "      <td>0.647172</td>\n",
              "      <td>0.628988</td>\n",
              "      <td>0.627787</td>\n",
              "      <td>0.613775</td>\n",
              "      <td>0.632531</td>\n",
              "      <td>0.012289</td>\n",
              "      <td>7</td>\n",
              "      <td>0.654892</td>\n",
              "      <td>0.654111</td>\n",
              "      <td>0.659475</td>\n",
              "      <td>0.661105</td>\n",
              "      <td>0.662134</td>\n",
              "      <td>0.658343</td>\n",
              "      <td>0.003259</td>\n",
              "    </tr>\n",
              "    <tr>\n",
              "      <th>7</th>\n",
              "      <td>0.069046</td>\n",
              "      <td>0.005718</td>\n",
              "      <td>0.014758</td>\n",
              "      <td>0.000153</td>\n",
              "      <td>1000</td>\n",
              "      <td>{'alpha': 1000}</td>\n",
              "      <td>0.500288</td>\n",
              "      <td>0.501309</td>\n",
              "      <td>0.499733</td>\n",
              "      <td>0.499911</td>\n",
              "      <td>0.499733</td>\n",
              "      <td>0.500195</td>\n",
              "      <td>0.000593</td>\n",
              "      <td>9</td>\n",
              "      <td>0.500405</td>\n",
              "      <td>0.499939</td>\n",
              "      <td>0.500427</td>\n",
              "      <td>0.500244</td>\n",
              "      <td>0.500383</td>\n",
              "      <td>0.500279</td>\n",
              "      <td>0.000182</td>\n",
              "    </tr>\n",
              "    <tr>\n",
              "      <th>8</th>\n",
              "      <td>0.066188</td>\n",
              "      <td>0.010128</td>\n",
              "      <td>0.013159</td>\n",
              "      <td>0.002383</td>\n",
              "      <td>10000</td>\n",
              "      <td>{'alpha': 10000}</td>\n",
              "      <td>0.504177</td>\n",
              "      <td>0.505294</td>\n",
              "      <td>0.502177</td>\n",
              "      <td>0.505953</td>\n",
              "      <td>0.502796</td>\n",
              "      <td>0.504079</td>\n",
              "      <td>0.001433</td>\n",
              "      <td>8</td>\n",
              "      <td>0.504309</td>\n",
              "      <td>0.503753</td>\n",
              "      <td>0.504648</td>\n",
              "      <td>0.503513</td>\n",
              "      <td>0.504166</td>\n",
              "      <td>0.504077</td>\n",
              "      <td>0.000403</td>\n",
              "    </tr>\n",
              "  </tbody>\n",
              "</table>\n",
              "</div>\n",
              "      <button class=\"colab-df-convert\" onclick=\"convertToInteractive('df-fbcb08fe-8d42-469b-991b-4a43443ecc23')\"\n",
              "              title=\"Convert this dataframe to an interactive table.\"\n",
              "              style=\"display:none;\">\n",
              "        \n",
              "  <svg xmlns=\"http://www.w3.org/2000/svg\" height=\"24px\"viewBox=\"0 0 24 24\"\n",
              "       width=\"24px\">\n",
              "    <path d=\"M0 0h24v24H0V0z\" fill=\"none\"/>\n",
              "    <path d=\"M18.56 5.44l.94 2.06.94-2.06 2.06-.94-2.06-.94-.94-2.06-.94 2.06-2.06.94zm-11 1L8.5 8.5l.94-2.06 2.06-.94-2.06-.94L8.5 2.5l-.94 2.06-2.06.94zm10 10l.94 2.06.94-2.06 2.06-.94-2.06-.94-.94-2.06-.94 2.06-2.06.94z\"/><path d=\"M17.41 7.96l-1.37-1.37c-.4-.4-.92-.59-1.43-.59-.52 0-1.04.2-1.43.59L10.3 9.45l-7.72 7.72c-.78.78-.78 2.05 0 2.83L4 21.41c.39.39.9.59 1.41.59.51 0 1.02-.2 1.41-.59l7.78-7.78 2.81-2.81c.8-.78.8-2.07 0-2.86zM5.41 20L4 18.59l7.72-7.72 1.47 1.35L5.41 20z\"/>\n",
              "  </svg>\n",
              "      </button>\n",
              "      \n",
              "  <style>\n",
              "    .colab-df-container {\n",
              "      display:flex;\n",
              "      flex-wrap:wrap;\n",
              "      gap: 12px;\n",
              "    }\n",
              "\n",
              "    .colab-df-convert {\n",
              "      background-color: #E8F0FE;\n",
              "      border: none;\n",
              "      border-radius: 50%;\n",
              "      cursor: pointer;\n",
              "      display: none;\n",
              "      fill: #1967D2;\n",
              "      height: 32px;\n",
              "      padding: 0 0 0 0;\n",
              "      width: 32px;\n",
              "    }\n",
              "\n",
              "    .colab-df-convert:hover {\n",
              "      background-color: #E2EBFA;\n",
              "      box-shadow: 0px 1px 2px rgba(60, 64, 67, 0.3), 0px 1px 3px 1px rgba(60, 64, 67, 0.15);\n",
              "      fill: #174EA6;\n",
              "    }\n",
              "\n",
              "    [theme=dark] .colab-df-convert {\n",
              "      background-color: #3B4455;\n",
              "      fill: #D2E3FC;\n",
              "    }\n",
              "\n",
              "    [theme=dark] .colab-df-convert:hover {\n",
              "      background-color: #434B5C;\n",
              "      box-shadow: 0px 1px 3px 1px rgba(0, 0, 0, 0.15);\n",
              "      filter: drop-shadow(0px 1px 2px rgba(0, 0, 0, 0.3));\n",
              "      fill: #FFFFFF;\n",
              "    }\n",
              "  </style>\n",
              "\n",
              "      <script>\n",
              "        const buttonEl =\n",
              "          document.querySelector('#df-fbcb08fe-8d42-469b-991b-4a43443ecc23 button.colab-df-convert');\n",
              "        buttonEl.style.display =\n",
              "          google.colab.kernel.accessAllowed ? 'block' : 'none';\n",
              "\n",
              "        async function convertToInteractive(key) {\n",
              "          const element = document.querySelector('#df-fbcb08fe-8d42-469b-991b-4a43443ecc23');\n",
              "          const dataTable =\n",
              "            await google.colab.kernel.invokeFunction('convertToInteractive',\n",
              "                                                     [key], {});\n",
              "          if (!dataTable) return;\n",
              "\n",
              "          const docLinkHtml = 'Like what you see? Visit the ' +\n",
              "            '<a target=\"_blank\" href=https://colab.research.google.com/notebooks/data_table.ipynb>data table notebook</a>'\n",
              "            + ' to learn more about interactive tables.';\n",
              "          element.innerHTML = '';\n",
              "          dataTable['output_type'] = 'display_data';\n",
              "          await google.colab.output.renderOutput(dataTable, element);\n",
              "          const docLink = document.createElement('div');\n",
              "          docLink.innerHTML = docLinkHtml;\n",
              "          element.appendChild(docLink);\n",
              "        }\n",
              "      </script>\n",
              "    </div>\n",
              "  </div>\n",
              "  "
            ],
            "text/plain": [
              "   mean_fit_time  std_fit_time  ...  mean_train_score  std_train_score\n",
              "0       0.073863      0.002605  ...          0.745831         0.001746\n",
              "1       0.067336      0.008094  ...          0.745830         0.001746\n",
              "2       0.073302      0.005715  ...          0.745820         0.001746\n",
              "3       0.068600      0.000470  ...          0.745722         0.001748\n",
              "4       0.067221      0.001313  ...          0.744753         0.001741\n",
              "5       0.067307      0.003456  ...          0.735194         0.001748\n",
              "6       0.066105      0.003337  ...          0.658343         0.003259\n",
              "7       0.069046      0.005718  ...          0.500279         0.000182\n",
              "8       0.066188      0.010128  ...          0.504077         0.000403\n",
              "\n",
              "[9 rows x 21 columns]"
            ]
          },
          "metadata": {},
          "execution_count": 16
        }
      ]
    },
    {
      "cell_type": "code",
      "source": [
        "print(clf.best_estimator_)\n",
        "best_alpha_bow = clf.best_estimator_.alpha\n",
        "print('the best value of hyper-parameter alpha by Gridsearch on BOW Vectorization is :- ',best_alpha_bow)"
      ],
      "metadata": {
        "id": "N700GnMc2K5T",
        "outputId": "f7cba7f1-7f78-4ade-9b04-e348614eb043",
        "colab": {
          "base_uri": "https://localhost:8080/"
        }
      },
      "execution_count": null,
      "outputs": [
        {
          "output_type": "stream",
          "name": "stdout",
          "text": [
            "MultinomialNB(alpha=0.01)\n",
            "the best value of hyper-parameter alpha by Gridsearch on BOW Vectorization is :-  0.01\n"
          ]
        }
      ]
    },
    {
      "cell_type": "markdown",
      "metadata": {
        "id": "LjB2Ys-Tublc"
      },
      "source": [
        "#### Set 2"
      ]
    },
    {
      "cell_type": "code",
      "execution_count": null,
      "metadata": {
        "id": "JVD9A9Cuubld"
      },
      "outputs": [],
      "source": [
        "# Perform Hyperparameter Tuning.\n",
        "# Plot the training and the CV AUC scores, for different values of 'alpha', using a 2D line plot\n",
        "\n"
      ]
    },
    {
      "cell_type": "code",
      "execution_count": null,
      "metadata": {
        "id": "OTExqXf6uble"
      },
      "outputs": [],
      "source": [
        "# Obtain the optimal value for 'alpha' and using the obtained optimal 'alpha' value, fit a multinomial naive bayes model, on the train data,\n",
        "# Note: If you have split the datase into 3 parts (ie., train, cv and test sets) in the beginning, then the training datafor this final model would be (train set + cv set)\n",
        "# Make class label and probability predictions on the train and test data.\n"
      ]
    },
    {
      "cell_type": "code",
      "execution_count": null,
      "metadata": {
        "id": "xWdsBAcIuble"
      },
      "outputs": [],
      "source": [
        "# Plot the ROC-AUC curves using the probability predictions made on train and test data.\n"
      ]
    },
    {
      "cell_type": "code",
      "execution_count": null,
      "metadata": {
        "id": "uLAqm-dGublf"
      },
      "outputs": [],
      "source": [
        "# Pick the best threshold among the probability estimates, such that it has to yield maximum value for TPR*(1-FPR)\n",
        "# Plot the confusion matrices(each for train and test data) afer encoding the predicted class labels, on the basis of the best threshod probability estimate.\n"
      ]
    },
    {
      "cell_type": "code",
      "execution_count": null,
      "metadata": {
        "id": "MgIs0najublg"
      },
      "outputs": [],
      "source": [
        "# Either from set 1 (or) set 2, print the names of the top 20 features associated with the positive and negative classes each. (You have to print the names of the features, but not the indexes)\n",
        "\n"
      ]
    },
    {
      "cell_type": "code",
      "source": [
        "model = MultinomialNB()\n",
        "parameters = {'alpha':[0.0001, 0.001, 0.01, 0.1,1,10,100,1000,10000]}  # values changed to interval(10^[-4] to 10^4) as suggested\n",
        "clf = GridSearchCV(model, parameters, cv=5, scoring='roc_auc',return_train_score=True,n_jobs=-1)\n",
        "clf.fit(X_train_TFIDF, y_train)\n",
        "\n",
        "results = pd.DataFrame.from_dict(clf.cv_results_)\n",
        "results = results.sort_values(['param_alpha'])\n",
        "train_auc= results['mean_train_score']\n",
        "train_auc_std= results['std_train_score']\n",
        "cv_auc = results['mean_test_score'] \n",
        "cv_auc_std= results['std_test_score']\n",
        "K =  results['param_alpha']\n",
        "\n",
        "plt.plot(K, train_auc, label='Train AUC')\n",
        "\n",
        "plt.plot(K, cv_auc, label='CV AUC')\n",
        "\n",
        "plt.scatter(K, train_auc, label='Train AUC points')\n",
        "plt.scatter(K, cv_auc, label='CV AUC points')\n",
        "\n",
        "plt.legend()\n",
        "plt.xlabel(\"Alfa Hyperparameter\")\n",
        "plt.ylabel(\"AUC\")\n",
        "plt.title(\"Hyper parameter Vs AUC plot\")\n",
        "plt.grid()\n",
        "plt.show()\n",
        "\n",
        "results"
      ],
      "metadata": {
        "id": "OR251WH-2RbJ",
        "outputId": "e6ef5ed4-1b59-4d8d-d469-25a049b34ec6",
        "colab": {
          "base_uri": "https://localhost:8080/",
          "height": 830
        }
      },
      "execution_count": null,
      "outputs": [
        {
          "output_type": "display_data",
          "data": {
            "image/png": "[encoded data removed]",
            "text/plain": [
              "<Figure size 432x288 with 1 Axes>"
            ]
          },
          "metadata": {
            "needs_background": "light"
          }
        },
        {
          "output_type": "execute_result",
          "data": {
            "text/html": [
              "\n",
              "  <div id=\"df-222090c9-7941-4458-9fe3-379f044604ed\">\n",
              "    <div class=\"colab-df-container\">\n",
              "      <div>\n",
              "<style scoped>\n",
              "    .dataframe tbody tr th:only-of-type {\n",
              "        vertical-align: middle;\n",
              "    }\n",
              "\n",
              "    .dataframe tbody tr th {\n",
              "        vertical-align: top;\n",
              "    }\n",
              "\n",
              "    .dataframe thead th {\n",
              "        text-align: right;\n",
              "    }\n",
              "</style>\n",
              "<table border=\"1\" class=\"dataframe\">\n",
              "  <thead>\n",
              "    <tr style=\"text-align: right;\">\n",
              "      <th></th>\n",
              "      <th>mean_fit_time</th>\n",
              "      <th>std_fit_time</th>\n",
              "      <th>mean_score_time</th>\n",
              "      <th>std_score_time</th>\n",
              "      <th>param_alpha</th>\n",
              "      <th>params</th>\n",
              "      <th>split0_test_score</th>\n",
              "      <th>split1_test_score</th>\n",
              "      <th>split2_test_score</th>\n",
              "      <th>split3_test_score</th>\n",
              "      <th>split4_test_score</th>\n",
              "      <th>mean_test_score</th>\n",
              "      <th>std_test_score</th>\n",
              "      <th>rank_test_score</th>\n",
              "      <th>split0_train_score</th>\n",
              "      <th>split1_train_score</th>\n",
              "      <th>split2_train_score</th>\n",
              "      <th>split3_train_score</th>\n",
              "      <th>split4_train_score</th>\n",
              "      <th>mean_train_score</th>\n",
              "      <th>std_train_score</th>\n",
              "    </tr>\n",
              "  </thead>\n",
              "  <tbody>\n",
              "    <tr>\n",
              "      <th>0</th>\n",
              "      <td>0.077573</td>\n",
              "      <td>0.004290</td>\n",
              "      <td>0.017182</td>\n",
              "      <td>0.002144</td>\n",
              "      <td>0.0001</td>\n",
              "      <td>{'alpha': 0.0001}</td>\n",
              "      <td>0.686815</td>\n",
              "      <td>0.683386</td>\n",
              "      <td>0.667509</td>\n",
              "      <td>0.667219</td>\n",
              "      <td>0.666085</td>\n",
              "      <td>0.674203</td>\n",
              "      <td>0.008977</td>\n",
              "      <td>1</td>\n",
              "      <td>0.732558</td>\n",
              "      <td>0.735116</td>\n",
              "      <td>0.733332</td>\n",
              "      <td>0.736676</td>\n",
              "      <td>0.735790</td>\n",
              "      <td>0.734694</td>\n",
              "      <td>0.001531</td>\n",
              "    </tr>\n",
              "    <tr>\n",
              "      <th>1</th>\n",
              "      <td>0.073667</td>\n",
              "      <td>0.004158</td>\n",
              "      <td>0.016548</td>\n",
              "      <td>0.001546</td>\n",
              "      <td>0.001</td>\n",
              "      <td>{'alpha': 0.001}</td>\n",
              "      <td>0.686805</td>\n",
              "      <td>0.683379</td>\n",
              "      <td>0.667498</td>\n",
              "      <td>0.667209</td>\n",
              "      <td>0.666074</td>\n",
              "      <td>0.674193</td>\n",
              "      <td>0.008977</td>\n",
              "      <td>2</td>\n",
              "      <td>0.732544</td>\n",
              "      <td>0.735100</td>\n",
              "      <td>0.733317</td>\n",
              "      <td>0.736662</td>\n",
              "      <td>0.735776</td>\n",
              "      <td>0.734680</td>\n",
              "      <td>0.001531</td>\n",
              "    </tr>\n",
              "    <tr>\n",
              "      <th>2</th>\n",
              "      <td>0.066626</td>\n",
              "      <td>0.001714</td>\n",
              "      <td>0.017236</td>\n",
              "      <td>0.002839</td>\n",
              "      <td>0.01</td>\n",
              "      <td>{'alpha': 0.01}</td>\n",
              "      <td>0.686712</td>\n",
              "      <td>0.683295</td>\n",
              "      <td>0.667396</td>\n",
              "      <td>0.667123</td>\n",
              "      <td>0.665997</td>\n",
              "      <td>0.674105</td>\n",
              "      <td>0.008976</td>\n",
              "      <td>3</td>\n",
              "      <td>0.732413</td>\n",
              "      <td>0.734946</td>\n",
              "      <td>0.733179</td>\n",
              "      <td>0.736519</td>\n",
              "      <td>0.735642</td>\n",
              "      <td>0.734540</td>\n",
              "      <td>0.001528</td>\n",
              "    </tr>\n",
              "    <tr>\n",
              "      <th>3</th>\n",
              "      <td>0.071830</td>\n",
              "      <td>0.003871</td>\n",
              "      <td>0.017382</td>\n",
              "      <td>0.002215</td>\n",
              "      <td>0.1</td>\n",
              "      <td>{'alpha': 0.1}</td>\n",
              "      <td>0.686798</td>\n",
              "      <td>0.682539</td>\n",
              "      <td>0.666281</td>\n",
              "      <td>0.666300</td>\n",
              "      <td>0.665007</td>\n",
              "      <td>0.673385</td>\n",
              "      <td>0.009323</td>\n",
              "      <td>4</td>\n",
              "      <td>0.731087</td>\n",
              "      <td>0.733441</td>\n",
              "      <td>0.731791</td>\n",
              "      <td>0.735084</td>\n",
              "      <td>0.734309</td>\n",
              "      <td>0.733142</td>\n",
              "      <td>0.001501</td>\n",
              "    </tr>\n",
              "    <tr>\n",
              "      <th>4</th>\n",
              "      <td>0.068595</td>\n",
              "      <td>0.001754</td>\n",
              "      <td>0.016915</td>\n",
              "      <td>0.001646</td>\n",
              "      <td>1</td>\n",
              "      <td>{'alpha': 1}</td>\n",
              "      <td>0.678352</td>\n",
              "      <td>0.674048</td>\n",
              "      <td>0.655380</td>\n",
              "      <td>0.657348</td>\n",
              "      <td>0.655009</td>\n",
              "      <td>0.664027</td>\n",
              "      <td>0.010063</td>\n",
              "      <td>5</td>\n",
              "      <td>0.717765</td>\n",
              "      <td>0.719076</td>\n",
              "      <td>0.718388</td>\n",
              "      <td>0.721351</td>\n",
              "      <td>0.721080</td>\n",
              "      <td>0.719532</td>\n",
              "      <td>0.001438</td>\n",
              "    </tr>\n",
              "    <tr>\n",
              "      <th>5</th>\n",
              "      <td>0.068625</td>\n",
              "      <td>0.001911</td>\n",
              "      <td>0.016984</td>\n",
              "      <td>0.002609</td>\n",
              "      <td>10</td>\n",
              "      <td>{'alpha': 10}</td>\n",
              "      <td>0.621823</td>\n",
              "      <td>0.613461</td>\n",
              "      <td>0.592347</td>\n",
              "      <td>0.596502</td>\n",
              "      <td>0.589971</td>\n",
              "      <td>0.602821</td>\n",
              "      <td>0.012562</td>\n",
              "      <td>6</td>\n",
              "      <td>0.631558</td>\n",
              "      <td>0.633088</td>\n",
              "      <td>0.637021</td>\n",
              "      <td>0.637331</td>\n",
              "      <td>0.638332</td>\n",
              "      <td>0.635466</td>\n",
              "      <td>0.002647</td>\n",
              "    </tr>\n",
              "    <tr>\n",
              "      <th>6</th>\n",
              "      <td>0.067216</td>\n",
              "      <td>0.001249</td>\n",
              "      <td>0.015736</td>\n",
              "      <td>0.000167</td>\n",
              "      <td>100</td>\n",
              "      <td>{'alpha': 100}</td>\n",
              "      <td>0.574255</td>\n",
              "      <td>0.563897</td>\n",
              "      <td>0.539913</td>\n",
              "      <td>0.531684</td>\n",
              "      <td>0.533680</td>\n",
              "      <td>0.548686</td>\n",
              "      <td>0.017183</td>\n",
              "      <td>7</td>\n",
              "      <td>0.549240</td>\n",
              "      <td>0.552481</td>\n",
              "      <td>0.558447</td>\n",
              "      <td>0.560235</td>\n",
              "      <td>0.558938</td>\n",
              "      <td>0.555868</td>\n",
              "      <td>0.004256</td>\n",
              "    </tr>\n",
              "    <tr>\n",
              "      <th>7</th>\n",
              "      <td>0.066577</td>\n",
              "      <td>0.001615</td>\n",
              "      <td>0.015507</td>\n",
              "      <td>0.000147</td>\n",
              "      <td>1000</td>\n",
              "      <td>{'alpha': 1000}</td>\n",
              "      <td>0.562509</td>\n",
              "      <td>0.553447</td>\n",
              "      <td>0.529006</td>\n",
              "      <td>0.514731</td>\n",
              "      <td>0.524860</td>\n",
              "      <td>0.536911</td>\n",
              "      <td>0.018046</td>\n",
              "      <td>8</td>\n",
              "      <td>0.531829</td>\n",
              "      <td>0.534500</td>\n",
              "      <td>0.540446</td>\n",
              "      <td>0.543932</td>\n",
              "      <td>0.540911</td>\n",
              "      <td>0.538324</td>\n",
              "      <td>0.004460</td>\n",
              "    </tr>\n",
              "    <tr>\n",
              "      <th>8</th>\n",
              "      <td>0.069811</td>\n",
              "      <td>0.002593</td>\n",
              "      <td>0.015450</td>\n",
              "      <td>0.000564</td>\n",
              "      <td>10000</td>\n",
              "      <td>{'alpha': 10000}</td>\n",
              "      <td>0.552738</td>\n",
              "      <td>0.549189</td>\n",
              "      <td>0.527275</td>\n",
              "      <td>0.513066</td>\n",
              "      <td>0.523449</td>\n",
              "      <td>0.533143</td>\n",
              "      <td>0.015316</td>\n",
              "      <td>9</td>\n",
              "      <td>0.528675</td>\n",
              "      <td>0.529734</td>\n",
              "      <td>0.535244</td>\n",
              "      <td>0.538747</td>\n",
              "      <td>0.535909</td>\n",
              "      <td>0.533662</td>\n",
              "      <td>0.003840</td>\n",
              "    </tr>\n",
              "  </tbody>\n",
              "</table>\n",
              "</div>\n",
              "      <button class=\"colab-df-convert\" onclick=\"convertToInteractive('df-222090c9-7941-4458-9fe3-379f044604ed')\"\n",
              "              title=\"Convert this dataframe to an interactive table.\"\n",
              "              style=\"display:none;\">\n",
              "        \n",
              "  <svg xmlns=\"http://www.w3.org/2000/svg\" height=\"24px\"viewBox=\"0 0 24 24\"\n",
              "       width=\"24px\">\n",
              "    <path d=\"M0 0h24v24H0V0z\" fill=\"none\"/>\n",
              "    <path d=\"M18.56 5.44l.94 2.06.94-2.06 2.06-.94-2.06-.94-.94-2.06-.94 2.06-2.06.94zm-11 1L8.5 8.5l.94-2.06 2.06-.94-2.06-.94L8.5 2.5l-.94 2.06-2.06.94zm10 10l.94 2.06.94-2.06 2.06-.94-2.06-.94-.94-2.06-.94 2.06-2.06.94z\"/><path d=\"M17.41 7.96l-1.37-1.37c-.4-.4-.92-.59-1.43-.59-.52 0-1.04.2-1.43.59L10.3 9.45l-7.72 7.72c-.78.78-.78 2.05 0 2.83L4 21.41c.39.39.9.59 1.41.59.51 0 1.02-.2 1.41-.59l7.78-7.78 2.81-2.81c.8-.78.8-2.07 0-2.86zM5.41 20L4 18.59l7.72-7.72 1.47 1.35L5.41 20z\"/>\n",
              "  </svg>\n",
              "      </button>\n",
              "      \n",
              "  <style>\n",
              "    .colab-df-container {\n",
              "      display:flex;\n",
              "      flex-wrap:wrap;\n",
              "      gap: 12px;\n",
              "    }\n",
              "\n",
              "    .colab-df-convert {\n",
              "      background-color: #E8F0FE;\n",
              "      border: none;\n",
              "      border-radius: 50%;\n",
              "      cursor: pointer;\n",
              "      display: none;\n",
              "      fill: #1967D2;\n",
              "      height: 32px;\n",
              "      padding: 0 0 0 0;\n",
              "      width: 32px;\n",
              "    }\n",
              "\n",
              "    .colab-df-convert:hover {\n",
              "      background-color: #E2EBFA;\n",
              "      box-shadow: 0px 1px 2px rgba(60, 64, 67, 0.3), 0px 1px 3px 1px rgba(60, 64, 67, 0.15);\n",
              "      fill: #174EA6;\n",
              "    }\n",
              "\n",
              "    [theme=dark] .colab-df-convert {\n",
              "      background-color: #3B4455;\n",
              "      fill: #D2E3FC;\n",
              "    }\n",
              "\n",
              "    [theme=dark] .colab-df-convert:hover {\n",
              "      background-color: #434B5C;\n",
              "      box-shadow: 0px 1px 3px 1px rgba(0, 0, 0, 0.15);\n",
              "      filter: drop-shadow(0px 1px 2px rgba(0, 0, 0, 0.3));\n",
              "      fill: #FFFFFF;\n",
              "    }\n",
              "  </style>\n",
              "\n",
              "      <script>\n",
              "        const buttonEl =\n",
              "          document.querySelector('#df-222090c9-7941-4458-9fe3-379f044604ed button.colab-df-convert');\n",
              "        buttonEl.style.display =\n",
              "          google.colab.kernel.accessAllowed ? 'block' : 'none';\n",
              "\n",
              "        async function convertToInteractive(key) {\n",
              "          const element = document.querySelector('#df-222090c9-7941-4458-9fe3-379f044604ed');\n",
              "          const dataTable =\n",
              "            await google.colab.kernel.invokeFunction('convertToInteractive',\n",
              "                                                     [key], {});\n",
              "          if (!dataTable) return;\n",
              "\n",
              "          const docLinkHtml = 'Like what you see? Visit the ' +\n",
              "            '<a target=\"_blank\" href=https://colab.research.google.com/notebooks/data_table.ipynb>data table notebook</a>'\n",
              "            + ' to learn more about interactive tables.';\n",
              "          element.innerHTML = '';\n",
              "          dataTable['output_type'] = 'display_data';\n",
              "          await google.colab.output.renderOutput(dataTable, element);\n",
              "          const docLink = document.createElement('div');\n",
              "          docLink.innerHTML = docLinkHtml;\n",
              "          element.appendChild(docLink);\n",
              "        }\n",
              "      </script>\n",
              "    </div>\n",
              "  </div>\n",
              "  "
            ],
            "text/plain": [
              "   mean_fit_time  std_fit_time  ...  mean_train_score  std_train_score\n",
              "0       0.077573      0.004290  ...          0.734694         0.001531\n",
              "1       0.073667      0.004158  ...          0.734680         0.001531\n",
              "2       0.066626      0.001714  ...          0.734540         0.001528\n",
              "3       0.071830      0.003871  ...          0.733142         0.001501\n",
              "4       0.068595      0.001754  ...          0.719532         0.001438\n",
              "5       0.068625      0.001911  ...          0.635466         0.002647\n",
              "6       0.067216      0.001249  ...          0.555868         0.004256\n",
              "7       0.066577      0.001615  ...          0.538324         0.004460\n",
              "8       0.069811      0.002593  ...          0.533662         0.003840\n",
              "\n",
              "[9 rows x 21 columns]"
            ]
          },
          "metadata": {},
          "execution_count": 18
        }
      ]
    },
    {
      "cell_type": "code",
      "source": [
        "print(clf.best_estimator_)\n",
        "best_alpha_tfidf = clf.best_estimator_.alpha\n",
        "print('the best value of hyper-parameter alpha by Gridsearch on TFIDF Vectorization is :- ',best_alpha_tfidf)"
      ],
      "metadata": {
        "id": "z-70M3cD2aOo",
        "outputId": "d42474af-7ba0-4fd6-b873-96c396d1c54f",
        "colab": {
          "base_uri": "https://localhost:8080/"
        }
      },
      "execution_count": null,
      "outputs": [
        {
          "output_type": "stream",
          "name": "stdout",
          "text": [
            "MultinomialNB(alpha=0.0001)\n",
            "the best value of hyper-parameter alpha by Gridsearch on TFIDF Vectorization is :-  0.0001\n"
          ]
        }
      ]
    },
    {
      "cell_type": "code",
      "source": [
        "def batch_predict(clf, data):\n",
        "\n",
        "    y_data_pred = []\n",
        "    tr_loop = data.shape[0] - data.shape[0]%1000\n",
        "    for i in range(0, tr_loop, 1000):\n",
        "        y_data_pred.extend(clf.predict_proba(data[i:i+1000])[:,1])\n",
        "    if data.shape[0]%1000 !=0:\n",
        "        y_data_pred.extend(clf.predict_proba(data[tr_loop:])[:,1])   \n",
        "    return y_data_pred"
      ],
      "metadata": {
        "id": "VaUJGXIB2gSg"
      },
      "execution_count": null,
      "outputs": []
    },
    {
      "cell_type": "code",
      "source": [
        "from sklearn.metrics import roc_curve, auc\n",
        "\n",
        "model = MultinomialNB(alpha=best_alpha_bow)\n",
        "model.fit(X_train_BOW, y_train)\n",
        "\n",
        "y_train_pred_BOW = batch_predict(model, X_train_BOW)    \n",
        "y_test_pred_BOW = batch_predict(model, X_test_BOW)\n",
        "\n",
        "train_fpr_BOW, train_tpr_BOW, train_thresholds_BOW = roc_curve(y_train, y_train_pred_BOW)\n",
        "test_fpr_BOW, test_tpr_BOW, test_thresholds_BOW = roc_curve(y_test, y_test_pred_BOW)\n",
        "\n",
        "plt.plot(train_fpr_BOW, train_tpr_BOW, label=\"train AUC =\"+str(auc(train_fpr_BOW, train_tpr_BOW)))\n",
        "plt.plot(test_fpr_BOW, test_tpr_BOW, label=\"test AUC =\"+str(auc(test_fpr_BOW, test_tpr_BOW)))\n",
        "AUC_BOW=auc(test_fpr_BOW, test_tpr_BOW)\n",
        "plt.legend()\n",
        "plt.xlabel(\"TFR\")\n",
        "plt.ylabel(\"TPR\")\n",
        "plt.title(\"ROC PLOTS\")\n",
        "plt.grid()\n",
        "plt.show()"
      ],
      "metadata": {
        "id": "bhusmDON2iFq",
        "outputId": "90534eb0-aefa-445e-a5b1-54e2f174ec7f",
        "colab": {
          "base_uri": "https://localhost:8080/",
          "height": 295
        }
      },
      "execution_count": null,
      "outputs": [
        {
          "output_type": "display_data",
          "data": {
            "image/png": "[encoded data removed]",
            "text/plain": [
              "<Figure size 432x288 with 1 Axes>"
            ]
          },
          "metadata": {
            "needs_background": "light"
          }
        }
      ]
    },
    {
      "cell_type": "code",
      "source": [
        "from sklearn.metrics import roc_curve, auc\n",
        "\n",
        "model = MultinomialNB(alpha=best_alpha_tfidf)\n",
        "model.fit(X_train_TFIDF, y_train)\n",
        "\n",
        "y_train_pred_TFIDF = batch_predict(model, X_train_TFIDF)    \n",
        "y_test_pred_TFIDF = batch_predict(model, X_test_TFIDF)\n",
        "\n",
        "train_fpr_TFIDF, train_tpr_TFIDF, train_thresholds_TFIDF = roc_curve(y_train, y_train_pred_TFIDF)\n",
        "test_fpr_TFIDF, test_tpr_TFIDF, test_thresholds_TFIDF = roc_curve(y_test, y_test_pred_TFIDF)\n",
        "\n",
        "plt.plot(train_fpr_TFIDF, train_tpr_TFIDF, label=\"train AUC =\"+str(auc(train_fpr_TFIDF, train_tpr_TFIDF)))\n",
        "plt.plot(test_fpr_TFIDF, test_tpr_TFIDF, label=\"test AUC =\"+str(auc(test_fpr_TFIDF, test_tpr_TFIDF)))\n",
        "AUC_TFIDF=auc(test_fpr_TFIDF, test_tpr_TFIDF)     \n",
        "plt.legend()\n",
        "plt.xlabel(\"TFR\")\n",
        "plt.ylabel(\"TPR\")\n",
        "plt.title(\"ROC PLOTS\")\n",
        "plt.grid()\n",
        "plt.show()"
      ],
      "metadata": {
        "id": "aKtABqks2u5f",
        "outputId": "c632a2dc-2256-46f6-e8b2-4a11a5492f1e",
        "colab": {
          "base_uri": "https://localhost:8080/",
          "height": 295
        }
      },
      "execution_count": null,
      "outputs": [
        {
          "output_type": "display_data",
          "data": {
            "image/png": "[encoded data removed]",
            "text/plain": [
              "<Figure size 432x288 with 1 Axes>"
            ]
          },
          "metadata": {
            "needs_background": "light"
          }
        }
      ]
    },
    {
      "cell_type": "code",
      "source": [
        "def find_best_threshold(threshould, fpr, tpr):\n",
        "    t = threshould[np.argmax(tpr*(1-fpr))]\n",
        "    return t\n",
        "\n",
        "def predict_with_best_t(proba, threshould):\n",
        "    predictions = []\n",
        "    for i in proba:\n",
        "        if i>=threshould:\n",
        "            predictions.append(1)\n",
        "        else:\n",
        "            predictions.append(0)\n",
        "    return predictions"
      ],
      "metadata": {
        "id": "J937PVFq21MC"
      },
      "execution_count": null,
      "outputs": []
    },
    {
      "cell_type": "code",
      "source": [
        "def plot_CF_MAT(X):\n",
        "    from sklearn.metrics import confusion_matrix\n",
        "    import seaborn as sns\n",
        "    import pandas as pd\n",
        "    \n",
        "    df = pd.DataFrame(X, index = [0,1],columns = [0,1])\n",
        "    print(df)\n",
        "    print('\\n')\n",
        "    sns.cubehelix_palette(8)\n",
        "    sns.set(font_scale=1.5)\n",
        "    df.index.name = 'Actual'\n",
        "    df.columns.name = 'Predicted'\n",
        "    labels =  np.array([[{'TN':X[0][0]},{'FP':X[0][1]}],[{'FN':X[1][0]},{'TP':X[1][1]}]])\n",
        "    fig, ax = plt.subplots()\n",
        "    ax = sns.heatmap(df, annot = labels,fmt='',annot_kws={\"size\": 16},cbar=False,linecolor='white',linewidths=.75,cmap=\"PuBu\")\n",
        "    plt.show()"
      ],
      "metadata": {
        "id": "wMzwpCey22zb"
      },
      "execution_count": null,
      "outputs": []
    },
    {
      "cell_type": "code",
      "source": [
        "print (\" The confusion matrix of model with BOW vectorization\")\n",
        "print(\"**\"*30)\n",
        "best_t = find_best_threshold(train_thresholds_BOW, train_fpr_BOW, train_tpr_BOW)\n",
        "CF_MAT_BOW=confusion_matrix(y_test, predict_with_best_t(y_test_pred_BOW, best_t))\n",
        "plot_CF_MAT(CF_MAT_BOW)\n",
        "\n",
        "print(\"**\"*50)\n",
        "print(\"**\"*50,\"\\n\\n\")\n",
        "\n",
        "\n",
        "print (\" The confusion matrix of model with TFIDF vectorization\")\n",
        "print(\"**\"*30)\n",
        "best_t = find_best_threshold(train_thresholds_TFIDF, train_fpr_TFIDF, train_tpr_TFIDF)\n",
        "CF_MAT_TFIDF=confusion_matrix(y_test, predict_with_best_t(y_test_pred_TFIDF, best_t))\n",
        "plot_CF_MAT(CF_MAT_TFIDF)"
      ],
      "metadata": {
        "id": "FxjwQHyn26m7",
        "outputId": "fe171463-8450-4f89-9948-8d4f47be2867",
        "colab": {
          "base_uri": "https://localhost:8080/",
          "height": 891
        }
      },
      "execution_count": null,
      "outputs": [
        {
          "output_type": "stream",
          "name": "stdout",
          "text": [
            " The confusion matrix of model with BOW vectorization\n",
            "************************************************************\n",
            "      0     1\n",
            "0  1644   998\n",
            "1  4801  9057\n",
            "\n",
            "\n"
          ]
        },
        {
          "output_type": "display_data",
          "data": {
            "image/png": "[encoded data removed]",
            "text/plain": [
              "<Figure size 432x288 with 1 Axes>"
            ]
          },
          "metadata": {}
        },
        {
          "output_type": "stream",
          "name": "stdout",
          "text": [
            "****************************************************************************************************\n",
            "**************************************************************************************************** \n",
            "\n",
            "\n",
            " The confusion matrix of model with TFIDF vectorization\n",
            "************************************************************\n",
            "      0     1\n",
            "0  1518  1124\n",
            "1  4595  9263\n",
            "\n",
            "\n"
          ]
        },
        {
          "output_type": "display_data",
          "data": {
            "image/png": "[encoded data removed]",
            "text/plain": [
              "<Figure size 432x288 with 1 Axes>"
            ]
          },
          "metadata": {}
        }
      ]
    },
    {
      "cell_type": "code",
      "source": [
        "def extract_feature_names(n,d,f1,f2,f3,f4,f5,f6,prob_val):\n",
        "    print('The top ',n,' features are --')\n",
        "    print('**'*50)\n",
        "    for i in range(n):\n",
        "        if d[i] < 5000:\n",
        "            print(i+1 ,\": feature belongs to the ESSAY feature in the data with\",prob_val[d[i]],'probability, and the feature name after_vectorising is,',f1[d[i]])\n",
        "        elif d[i] >= 5000 and d[i]<5051:\n",
        "            print(i+1 ,\": feature belongs to the SCHOOL_STATE feature in the data with\",prob_val[d[i]],'probability, and the feature name after_vectorising is,',f2[d[i]-5000])\n",
        "        elif d[i] >= 5051 and d[i]<5056:\n",
        "            print(i+1 ,\": feature belongs to the TEACHER_PREFIX feature in the data with\",prob_val[d[i]],'probability, and the feature name after_vectorising is,',f3[d[i]-5051])\n",
        "        elif d[i] >= 5056 and d[i]<5060:\n",
        "            print(i+1 ,\": feature belongs to the PROJECT_GRADE_CATEGORY feature in the data with\",prob_val[d[i]],'probability, and the feature name after_vectorising is,',f4[d[i]-5056])\n",
        "        elif d[i] >= 5060 and d[i]<5069:\n",
        "            print(i+1 ,\": feature belongs to the CLEAN_CATEGORIES feature in the data with\",prob_val[d[i]],'probability, and the feature name after_vectorising is,',f5[d[i]-5060])\n",
        "        elif d[i] >= 5069 and d[i]<5099:\n",
        "            print(i+1 ,\": feature belongs to the CLEAN_SUB_CATEGORIES feature in the data with\",prob_val[d[i]],'probability, and the feature name after_vectorising is,',f6[d[i]-5069])\n",
        "        elif d[i] == 5099:\n",
        "            print(i+1 ,\": feature belongs to the PRICE feature in the data with\",prob_val[d[i]],'probability ')\n",
        "        else:\n",
        "            print(i+1 ,\": feature belongs to the PRICE feature in the data with\",prob_val[d[i]],'probability ')\n",
        "        \n",
        "    print('**'*50)"
      ],
      "metadata": {
        "id": "-Sby-him3GKs"
      },
      "execution_count": null,
      "outputs": []
    },
    {
      "cell_type": "code",
      "source": [
        "from numpy import argsort\n",
        "prob_val = abs(model.feature_log_prob_[1])\n",
        "feature_index=np.argsort(-prob_val)\n",
        "extract_feature_names(20,feature_index,essay_feature_TF,school_state_feature_TF,teacher_prefix_feature_TF,project_grade_category_feature_TF,clean_categories_feature_TF,clean_subcategories_feature_TF,prob_val)\n"
      ],
      "metadata": {
        "id": "dVmPpTPb3TBC",
        "outputId": "d0b8aa3a-0993-4a20-ff60-d31e3b5c2a95",
        "colab": {
          "base_uri": "https://localhost:8080/"
        }
      },
      "execution_count": null,
      "outputs": [
        {
          "output_type": "stream",
          "name": "stdout",
          "text": [
            "The top  20  features are --\n",
            "****************************************************************************************************\n",
            "1 : feature belongs to the CLEAN_SUB_CATEGORIES feature in the data with 13.463880316834091 probability, and the feature name after_vectorising is, warmth\n",
            "2 : feature belongs to the CLEAN_SUB_CATEGORIES feature in the data with 13.463880316834091 probability, and the feature name after_vectorising is, care_hunger\n",
            "3 : feature belongs to the CLEAN_CATEGORIES feature in the data with 13.460557830730663 probability, and the feature name after_vectorising is, warmth\n",
            "4 : feature belongs to the CLEAN_CATEGORIES feature in the data with 13.460557830730663 probability, and the feature name after_vectorising is, care_hunger\n",
            "5 : feature belongs to the TEACHER_PREFIX feature in the data with 12.404036693629259 probability, and the feature name after_vectorising is, dr\n",
            "6 : feature belongs to the ESSAY feature in the data with 10.674056561609104 probability, and the feature name after_vectorising is, however certainly control experience\n",
            "7 : feature belongs to the ESSAY feature in the data with 10.660081398357637 probability, and the feature name after_vectorising is, certainly control experience school\n",
            "8 : feature belongs to the ESSAY feature in the data with 10.655631923006373 probability, and the feature name after_vectorising is, creative positive way hopeful\n",
            "9 : feature belongs to the ESSAY feature in the data with 10.654939464510646 probability, and the feature name after_vectorising is, by creative positive\n",
            "10 : feature belongs to the ESSAY feature in the data with 10.654134379324324 probability, and the feature name after_vectorising is, by creative positive way\n",
            "11 : feature belongs to the ESSAY feature in the data with 10.653161793257425 probability, and the feature name after_vectorising is, lives however certainly control\n",
            "12 : feature belongs to the ESSAY feature in the data with 10.64988137600217 probability, and the feature name after_vectorising is, door classroom focus potential\n",
            "13 : feature belongs to the ESSAY feature in the data with 10.64867990072891 probability, and the feature name after_vectorising is, by creative\n",
            "14 : feature belongs to the ESSAY feature in the data with 10.640990617494372 probability, and the feature name after_vectorising is, inspire even\n",
            "15 : feature belongs to the ESSAY feature in the data with 10.633644490756787 probability, and the feature name after_vectorising is, home lives however certainly\n",
            "16 : feature belongs to the ESSAY feature in the data with 10.633644490756787 probability, and the feature name after_vectorising is, lives however certainly\n",
            "17 : feature belongs to the ESSAY feature in the data with 10.627453815711089 probability, and the feature name after_vectorising is, control experience school\n",
            "18 : feature belongs to the ESSAY feature in the data with 10.62668931658274 probability, and the feature name after_vectorising is, control experience school day\n",
            "19 : feature belongs to the ESSAY feature in the data with 10.6201882412431 probability, and the feature name after_vectorising is, however certainly control\n",
            "20 : feature belongs to the ESSAY feature in the data with 10.614494782068114 probability, and the feature name after_vectorising is, certainly control experience\n",
            "****************************************************************************************************\n"
          ]
        }
      ]
    },
    {
      "cell_type": "markdown",
      "metadata": {
        "id": "lS9hIHdib3dp"
      },
      "source": [
        "<h1>3. Summary</h1>\n",
        "\n",
        "<br> as mentioned in the step 5 of instructions"
      ]
    },
    {
      "cell_type": "code",
      "execution_count": null,
      "metadata": {
        "id": "793JyT2kublh"
      },
      "outputs": [],
      "source": [
        "#Summarize your assignment work here in a few points, and also compare the final models (from set 1 and set 2), in terms of optimal hyperparameter value 'alpha', training AUC and test AUC scores.\n",
        "# You can either use a pretty table or any other tabular structure.\n",
        "# Reference Link for Pretty table:  https://pypi.org/project/prettytable/"
      ]
    },
    {
      "cell_type": "code",
      "source": [
        "from prettytable import PrettyTable\n",
        "\n",
        "x = PrettyTable([\"Vectorization\",\"Model\", \"Hyper-parameter tuning\", \"Hyper-parameter\" ,\"AUC_SCORE\"])\n",
        "x.add_row([\" BOW \", \"MultinomialNB\",\"GridSearchCV\", best_alpha_bow, AUC_BOW])\n",
        "x.add_row([\" TFIDF \",\"MultinomialNB\", \"GridSearchCV\", best_alpha_tfidf, AUC_TFIDF])\n",
        "print(x)"
      ],
      "metadata": {
        "id": "pEcJdIAF3w-W",
        "outputId": "f54211cc-050b-4b80-cf3f-52fd92bf3bfd",
        "colab": {
          "base_uri": "https://localhost:8080/"
        }
      },
      "execution_count": null,
      "outputs": [
        {
          "output_type": "stream",
          "name": "stdout",
          "text": [
            "+---------------+---------------+------------------------+-----------------+--------------------+\n",
            "| Vectorization |     Model     | Hyper-parameter tuning | Hyper-parameter |     AUC_SCORE      |\n",
            "+---------------+---------------+------------------------+-----------------+--------------------+\n",
            "|      BOW      | MultinomialNB |      GridSearchCV      |       0.01      | 0.6847448392143127 |\n",
            "|     TFIDF     | MultinomialNB |      GridSearchCV      |      0.0001     | 0.6682520578302102 |\n",
            "+---------------+---------------+------------------------+-----------------+--------------------+\n"
          ]
        }
      ]
    }
  ],
  "metadata": {
    "colab": {
      "collapsed_sections": [],
      "name": "NB_Assignment_6.ipynb",
      "provenance": []
    },
    "kernelspec": {
      "display_name": "Python 3",
      "language": "python",
      "name": "python3"
    },
    "language_info": {
      "codemirror_mode": {
        "name": "ipython",
        "version": 3
      },
      "file_extension": ".py",
      "mimetype": "text/x-python",
      "name": "python",
      "nbconvert_exporter": "python",
      "pygments_lexer": "ipython3",
      "version": "3.6.3"
    }
  },
  "nbformat": 4,
  "nbformat_minor": 0
}